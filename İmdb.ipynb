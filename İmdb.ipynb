{
 "cells": [
  {
   "cell_type": "code",
   "execution_count": 1,
   "id": "ac9e94b4",
   "metadata": {},
   "outputs": [],
   "source": [
    "import pandas as pd\n",
    "import matplotlib.pyplot as plt"
   ]
  },
  {
   "cell_type": "code",
   "execution_count": 2,
   "id": "319d95f1",
   "metadata": {},
   "outputs": [
    {
     "name": "stdout",
     "output_type": "stream",
     "text": [
      "     rank                      name  year  rating                       genre  \\\n",
      "0       1  The Shawshank Redemption  1994     9.3                       Drama   \n",
      "1       2             The Godfather  1972     9.2                 Crime,Drama   \n",
      "2       3           The Dark Knight  2008     9.0          Action,Crime,Drama   \n",
      "3       4     The Godfather Part II  1974     9.0                 Crime,Drama   \n",
      "4       5              12 Angry Men  1957     9.0                 Crime,Drama   \n",
      "..    ...                       ...   ...     ...                         ...   \n",
      "245   246                  The Help  2011     8.1                       Drama   \n",
      "246   247               Dersu Uzala  1975     8.2   Adventure,Biography,Drama   \n",
      "247   248                   Aladdin  1992     8.0  Animation,Adventure,Comedy   \n",
      "248   249                    Gandhi  1982     8.0     Biography,Drama,History   \n",
      "249   250        Dances with Wolves  1990     8.0     Adventure,Drama,Western   \n",
      "\n",
      "    certificate run_time                                            tagline  \\\n",
      "0             R   2h 22m  Fear can hold you prisoner. Hope can set you f...   \n",
      "1             R   2h 55m                         An offer you can't refuse.   \n",
      "2         PG-13   2h 32m                                    Why So Serious?   \n",
      "3             R   3h 22m       All the power on earth can't change destiny.   \n",
      "4      Approved   1h 36m  Life Is In Their Hands -- Death Is On Their Mi...   \n",
      "..          ...      ...                                                ...   \n",
      "245       PG-13   2h 26m                      Change begins with a whisper.   \n",
      "246           G   2h 22m  There is man and beast at nature's mercy. Ther...   \n",
      "247           G   1h 30m                     Wish granted! (DVD re-release)   \n",
      "248          PG   3h 11m             His Triumph Changed The World Forever.   \n",
      "249       PG-13    3h 1m  Inside everyone is a frontier waiting to be di...   \n",
      "\n",
      "            budget     box_office  \\\n",
      "0         25000000       28884504   \n",
      "1          6000000      250341816   \n",
      "2        185000000     1006234167   \n",
      "3         13000000       47961919   \n",
      "4           350000            955   \n",
      "..             ...            ...   \n",
      "245       25000000      216639112   \n",
      "246        4000000          14480   \n",
      "247  Not Available  Not Available   \n",
      "248       22000000       52767889   \n",
      "249       22000000      424208848   \n",
      "\n",
      "                                                 casts  \\\n",
      "0    Tim Robbins,Morgan Freeman,Bob Gunton,William ...   \n",
      "1    Marlon Brando,Al Pacino,James Caan,Diane Keato...   \n",
      "2    Christian Bale,Heath Ledger,Aaron Eckhart,Mich...   \n",
      "3    Al Pacino,Robert De Niro,Robert Duvall,Diane K...   \n",
      "4    Henry Fonda,Lee J. Cobb,Martin Balsam,John Fie...   \n",
      "..                                                 ...   \n",
      "245  Viola Davis,Emma Stone,Octavia Spencer,Bryce D...   \n",
      "246  Maksim Munzuk,Yuriy Solomin,Mikhail Bychkov,Vl...   \n",
      "247  Scott Weinger,Robin Williams,Linda Larkin,Jona...   \n",
      "248  Ben Kingsley,John Gielgud,Rohini Hattangadi,Ro...   \n",
      "249  Kevin Costner,Mary McDonnell,Graham Greene,Rod...   \n",
      "\n",
      "                    directors                                          writers  \n",
      "0              Frank Darabont                      Stephen King,Frank Darabont  \n",
      "1        Francis Ford Coppola                  Mario Puzo,Francis Ford Coppola  \n",
      "2           Christopher Nolan  Jonathan Nolan,Christopher Nolan,David S. Goyer  \n",
      "3        Francis Ford Coppola                  Francis Ford Coppola,Mario Puzo  \n",
      "4                Sidney Lumet                                    Reginald Rose  \n",
      "..                        ...                                              ...  \n",
      "245               Tate Taylor                     Tate Taylor,Kathryn Stockett  \n",
      "246            Akira Kurosawa    Akira Kurosawa,Yuriy Nagibin,Vladimir Arsenev  \n",
      "247  Ron Clements,John Musker             Ron Clements,John Musker,Ted Elliott  \n",
      "248      Richard Attenborough                                      John Briley  \n",
      "249             Kevin Costner                                    Michael Blake  \n",
      "\n",
      "[250 rows x 13 columns]\n"
     ]
    }
   ],
   "source": [
    "film=pd.read_csv(\"Desktop/IMDB.csv\")\n",
    "print(film)"
   ]
  },
  {
   "cell_type": "code",
   "execution_count": 3,
   "id": "72a09495",
   "metadata": {},
   "outputs": [
    {
     "data": {
      "text/html": [
       "<div>\n",
       "<style scoped>\n",
       "    .dataframe tbody tr th:only-of-type {\n",
       "        vertical-align: middle;\n",
       "    }\n",
       "\n",
       "    .dataframe tbody tr th {\n",
       "        vertical-align: top;\n",
       "    }\n",
       "\n",
       "    .dataframe thead th {\n",
       "        text-align: right;\n",
       "    }\n",
       "</style>\n",
       "<table border=\"1\" class=\"dataframe\">\n",
       "  <thead>\n",
       "    <tr style=\"text-align: right;\">\n",
       "      <th></th>\n",
       "      <th>rank</th>\n",
       "      <th>name</th>\n",
       "      <th>year</th>\n",
       "      <th>rating</th>\n",
       "      <th>genre</th>\n",
       "      <th>certificate</th>\n",
       "      <th>run_time</th>\n",
       "      <th>tagline</th>\n",
       "      <th>budget</th>\n",
       "      <th>box_office</th>\n",
       "      <th>casts</th>\n",
       "      <th>directors</th>\n",
       "      <th>writers</th>\n",
       "    </tr>\n",
       "  </thead>\n",
       "  <tbody>\n",
       "    <tr>\n",
       "      <th>0</th>\n",
       "      <td>1</td>\n",
       "      <td>The Shawshank Redemption</td>\n",
       "      <td>1994</td>\n",
       "      <td>9.3</td>\n",
       "      <td>Drama</td>\n",
       "      <td>R</td>\n",
       "      <td>2h 22m</td>\n",
       "      <td>Fear can hold you prisoner. Hope can set you f...</td>\n",
       "      <td>25000000</td>\n",
       "      <td>28884504</td>\n",
       "      <td>Tim Robbins,Morgan Freeman,Bob Gunton,William ...</td>\n",
       "      <td>Frank Darabont</td>\n",
       "      <td>Stephen King,Frank Darabont</td>\n",
       "    </tr>\n",
       "    <tr>\n",
       "      <th>1</th>\n",
       "      <td>2</td>\n",
       "      <td>The Godfather</td>\n",
       "      <td>1972</td>\n",
       "      <td>9.2</td>\n",
       "      <td>Crime,Drama</td>\n",
       "      <td>R</td>\n",
       "      <td>2h 55m</td>\n",
       "      <td>An offer you can't refuse.</td>\n",
       "      <td>6000000</td>\n",
       "      <td>250341816</td>\n",
       "      <td>Marlon Brando,Al Pacino,James Caan,Diane Keato...</td>\n",
       "      <td>Francis Ford Coppola</td>\n",
       "      <td>Mario Puzo,Francis Ford Coppola</td>\n",
       "    </tr>\n",
       "    <tr>\n",
       "      <th>2</th>\n",
       "      <td>3</td>\n",
       "      <td>The Dark Knight</td>\n",
       "      <td>2008</td>\n",
       "      <td>9.0</td>\n",
       "      <td>Action,Crime,Drama</td>\n",
       "      <td>PG-13</td>\n",
       "      <td>2h 32m</td>\n",
       "      <td>Why So Serious?</td>\n",
       "      <td>185000000</td>\n",
       "      <td>1006234167</td>\n",
       "      <td>Christian Bale,Heath Ledger,Aaron Eckhart,Mich...</td>\n",
       "      <td>Christopher Nolan</td>\n",
       "      <td>Jonathan Nolan,Christopher Nolan,David S. Goyer</td>\n",
       "    </tr>\n",
       "    <tr>\n",
       "      <th>3</th>\n",
       "      <td>4</td>\n",
       "      <td>The Godfather Part II</td>\n",
       "      <td>1974</td>\n",
       "      <td>9.0</td>\n",
       "      <td>Crime,Drama</td>\n",
       "      <td>R</td>\n",
       "      <td>3h 22m</td>\n",
       "      <td>All the power on earth can't change destiny.</td>\n",
       "      <td>13000000</td>\n",
       "      <td>47961919</td>\n",
       "      <td>Al Pacino,Robert De Niro,Robert Duvall,Diane K...</td>\n",
       "      <td>Francis Ford Coppola</td>\n",
       "      <td>Francis Ford Coppola,Mario Puzo</td>\n",
       "    </tr>\n",
       "    <tr>\n",
       "      <th>4</th>\n",
       "      <td>5</td>\n",
       "      <td>12 Angry Men</td>\n",
       "      <td>1957</td>\n",
       "      <td>9.0</td>\n",
       "      <td>Crime,Drama</td>\n",
       "      <td>Approved</td>\n",
       "      <td>1h 36m</td>\n",
       "      <td>Life Is In Their Hands -- Death Is On Their Mi...</td>\n",
       "      <td>350000</td>\n",
       "      <td>955</td>\n",
       "      <td>Henry Fonda,Lee J. Cobb,Martin Balsam,John Fie...</td>\n",
       "      <td>Sidney Lumet</td>\n",
       "      <td>Reginald Rose</td>\n",
       "    </tr>\n",
       "  </tbody>\n",
       "</table>\n",
       "</div>"
      ],
      "text/plain": [
       "   rank                      name  year  rating               genre  \\\n",
       "0     1  The Shawshank Redemption  1994     9.3               Drama   \n",
       "1     2             The Godfather  1972     9.2         Crime,Drama   \n",
       "2     3           The Dark Knight  2008     9.0  Action,Crime,Drama   \n",
       "3     4     The Godfather Part II  1974     9.0         Crime,Drama   \n",
       "4     5              12 Angry Men  1957     9.0         Crime,Drama   \n",
       "\n",
       "  certificate run_time                                            tagline  \\\n",
       "0           R   2h 22m  Fear can hold you prisoner. Hope can set you f...   \n",
       "1           R   2h 55m                         An offer you can't refuse.   \n",
       "2       PG-13   2h 32m                                    Why So Serious?   \n",
       "3           R   3h 22m       All the power on earth can't change destiny.   \n",
       "4    Approved   1h 36m  Life Is In Their Hands -- Death Is On Their Mi...   \n",
       "\n",
       "      budget  box_office                                              casts  \\\n",
       "0   25000000    28884504  Tim Robbins,Morgan Freeman,Bob Gunton,William ...   \n",
       "1    6000000   250341816  Marlon Brando,Al Pacino,James Caan,Diane Keato...   \n",
       "2  185000000  1006234167  Christian Bale,Heath Ledger,Aaron Eckhart,Mich...   \n",
       "3   13000000    47961919  Al Pacino,Robert De Niro,Robert Duvall,Diane K...   \n",
       "4     350000         955  Henry Fonda,Lee J. Cobb,Martin Balsam,John Fie...   \n",
       "\n",
       "              directors                                          writers  \n",
       "0        Frank Darabont                      Stephen King,Frank Darabont  \n",
       "1  Francis Ford Coppola                  Mario Puzo,Francis Ford Coppola  \n",
       "2     Christopher Nolan  Jonathan Nolan,Christopher Nolan,David S. Goyer  \n",
       "3  Francis Ford Coppola                  Francis Ford Coppola,Mario Puzo  \n",
       "4          Sidney Lumet                                    Reginald Rose  "
      ]
     },
     "execution_count": 3,
     "metadata": {},
     "output_type": "execute_result"
    }
   ],
   "source": [
    "film.head()"
   ]
  },
  {
   "cell_type": "code",
   "execution_count": 4,
   "id": "cb7cc2a8",
   "metadata": {},
   "outputs": [
    {
     "data": {
      "text/html": [
       "<div>\n",
       "<style scoped>\n",
       "    .dataframe tbody tr th:only-of-type {\n",
       "        vertical-align: middle;\n",
       "    }\n",
       "\n",
       "    .dataframe tbody tr th {\n",
       "        vertical-align: top;\n",
       "    }\n",
       "\n",
       "    .dataframe thead th {\n",
       "        text-align: right;\n",
       "    }\n",
       "</style>\n",
       "<table border=\"1\" class=\"dataframe\">\n",
       "  <thead>\n",
       "    <tr style=\"text-align: right;\">\n",
       "      <th></th>\n",
       "      <th>rank</th>\n",
       "      <th>name</th>\n",
       "      <th>year</th>\n",
       "      <th>rating</th>\n",
       "      <th>genre</th>\n",
       "      <th>certificate</th>\n",
       "      <th>run_time</th>\n",
       "      <th>tagline</th>\n",
       "      <th>budget</th>\n",
       "      <th>box_office</th>\n",
       "      <th>casts</th>\n",
       "      <th>directors</th>\n",
       "      <th>writers</th>\n",
       "    </tr>\n",
       "  </thead>\n",
       "  <tbody>\n",
       "    <tr>\n",
       "      <th>0</th>\n",
       "      <td>1</td>\n",
       "      <td>The Shawshank Redemption</td>\n",
       "      <td>1994</td>\n",
       "      <td>9.3</td>\n",
       "      <td>Drama</td>\n",
       "      <td>R</td>\n",
       "      <td>2h 22m</td>\n",
       "      <td>Fear can hold you prisoner. Hope can set you f...</td>\n",
       "      <td>25000000</td>\n",
       "      <td>28884504</td>\n",
       "      <td>Tim Robbins,Morgan Freeman,Bob Gunton,William ...</td>\n",
       "      <td>Frank Darabont</td>\n",
       "      <td>Stephen King,Frank Darabont</td>\n",
       "    </tr>\n",
       "    <tr>\n",
       "      <th>1</th>\n",
       "      <td>2</td>\n",
       "      <td>The Godfather</td>\n",
       "      <td>1972</td>\n",
       "      <td>9.2</td>\n",
       "      <td>Crime,Drama</td>\n",
       "      <td>R</td>\n",
       "      <td>2h 55m</td>\n",
       "      <td>An offer you can't refuse.</td>\n",
       "      <td>6000000</td>\n",
       "      <td>250341816</td>\n",
       "      <td>Marlon Brando,Al Pacino,James Caan,Diane Keato...</td>\n",
       "      <td>Francis Ford Coppola</td>\n",
       "      <td>Mario Puzo,Francis Ford Coppola</td>\n",
       "    </tr>\n",
       "    <tr>\n",
       "      <th>2</th>\n",
       "      <td>3</td>\n",
       "      <td>The Dark Knight</td>\n",
       "      <td>2008</td>\n",
       "      <td>9.0</td>\n",
       "      <td>Action,Crime,Drama</td>\n",
       "      <td>PG-13</td>\n",
       "      <td>2h 32m</td>\n",
       "      <td>Why So Serious?</td>\n",
       "      <td>185000000</td>\n",
       "      <td>1006234167</td>\n",
       "      <td>Christian Bale,Heath Ledger,Aaron Eckhart,Mich...</td>\n",
       "      <td>Christopher Nolan</td>\n",
       "      <td>Jonathan Nolan,Christopher Nolan,David S. Goyer</td>\n",
       "    </tr>\n",
       "    <tr>\n",
       "      <th>3</th>\n",
       "      <td>4</td>\n",
       "      <td>The Godfather Part II</td>\n",
       "      <td>1974</td>\n",
       "      <td>9.0</td>\n",
       "      <td>Crime,Drama</td>\n",
       "      <td>R</td>\n",
       "      <td>3h 22m</td>\n",
       "      <td>All the power on earth can't change destiny.</td>\n",
       "      <td>13000000</td>\n",
       "      <td>47961919</td>\n",
       "      <td>Al Pacino,Robert De Niro,Robert Duvall,Diane K...</td>\n",
       "      <td>Francis Ford Coppola</td>\n",
       "      <td>Francis Ford Coppola,Mario Puzo</td>\n",
       "    </tr>\n",
       "    <tr>\n",
       "      <th>4</th>\n",
       "      <td>5</td>\n",
       "      <td>12 Angry Men</td>\n",
       "      <td>1957</td>\n",
       "      <td>9.0</td>\n",
       "      <td>Crime,Drama</td>\n",
       "      <td>Approved</td>\n",
       "      <td>1h 36m</td>\n",
       "      <td>Life Is In Their Hands -- Death Is On Their Mi...</td>\n",
       "      <td>350000</td>\n",
       "      <td>955</td>\n",
       "      <td>Henry Fonda,Lee J. Cobb,Martin Balsam,John Fie...</td>\n",
       "      <td>Sidney Lumet</td>\n",
       "      <td>Reginald Rose</td>\n",
       "    </tr>\n",
       "    <tr>\n",
       "      <th>5</th>\n",
       "      <td>6</td>\n",
       "      <td>Schindler's List</td>\n",
       "      <td>1993</td>\n",
       "      <td>9.0</td>\n",
       "      <td>Biography,Drama,History</td>\n",
       "      <td>R</td>\n",
       "      <td>3h 15m</td>\n",
       "      <td>Whoever saves one life, saves the world entire.</td>\n",
       "      <td>22000000</td>\n",
       "      <td>322161245</td>\n",
       "      <td>Liam Neeson,Ralph Fiennes,Ben Kingsley,Carolin...</td>\n",
       "      <td>Steven Spielberg</td>\n",
       "      <td>Thomas Keneally,Steven Zaillian</td>\n",
       "    </tr>\n",
       "    <tr>\n",
       "      <th>6</th>\n",
       "      <td>7</td>\n",
       "      <td>The Lord of the Rings: The Return of the King</td>\n",
       "      <td>2003</td>\n",
       "      <td>9.0</td>\n",
       "      <td>Action,Adventure,Drama</td>\n",
       "      <td>PG-13</td>\n",
       "      <td>3h 21m</td>\n",
       "      <td>The eye of the enemy is moving.</td>\n",
       "      <td>94000000</td>\n",
       "      <td>1146457748</td>\n",
       "      <td>Elijah Wood,Viggo Mortensen,Ian McKellen,Orlan...</td>\n",
       "      <td>Peter Jackson</td>\n",
       "      <td>J.R.R. Tolkien,Fran Walsh,Philippa Boyens</td>\n",
       "    </tr>\n",
       "    <tr>\n",
       "      <th>7</th>\n",
       "      <td>8</td>\n",
       "      <td>Pulp Fiction</td>\n",
       "      <td>1994</td>\n",
       "      <td>8.9</td>\n",
       "      <td>Crime,Drama</td>\n",
       "      <td>R</td>\n",
       "      <td>2h 34m</td>\n",
       "      <td>Girls like me don't make invitations like this...</td>\n",
       "      <td>8000000</td>\n",
       "      <td>213928762</td>\n",
       "      <td>John Travolta,Uma Thurman,Samuel L. Jackson,Br...</td>\n",
       "      <td>Quentin Tarantino</td>\n",
       "      <td>Quentin Tarantino,Roger Avary</td>\n",
       "    </tr>\n",
       "    <tr>\n",
       "      <th>8</th>\n",
       "      <td>9</td>\n",
       "      <td>The Lord of the Rings: The Fellowship of the Ring</td>\n",
       "      <td>2001</td>\n",
       "      <td>8.8</td>\n",
       "      <td>Action,Adventure,Drama</td>\n",
       "      <td>PG-13</td>\n",
       "      <td>2h 58m</td>\n",
       "      <td>The Legend Comes to Life</td>\n",
       "      <td>93000000</td>\n",
       "      <td>898204420</td>\n",
       "      <td>Elijah Wood,Ian McKellen,Orlando Bloom,Sean Be...</td>\n",
       "      <td>Peter Jackson</td>\n",
       "      <td>J.R.R. Tolkien,Fran Walsh,Philippa Boyens</td>\n",
       "    </tr>\n",
       "    <tr>\n",
       "      <th>9</th>\n",
       "      <td>10</td>\n",
       "      <td>The Good, the Bad and the Ugly</td>\n",
       "      <td>1966</td>\n",
       "      <td>8.8</td>\n",
       "      <td>Adventure,Western</td>\n",
       "      <td>Approved</td>\n",
       "      <td>2h 58m</td>\n",
       "      <td>They formed an alliance of hate to steal a for...</td>\n",
       "      <td>1200000</td>\n",
       "      <td>25253887</td>\n",
       "      <td>Clint Eastwood,Eli Wallach,Lee Van Cleef,Aldo ...</td>\n",
       "      <td>Sergio Leone</td>\n",
       "      <td>Luciano Vincenzoni,Sergio Leone,Agenore Incrocci</td>\n",
       "    </tr>\n",
       "  </tbody>\n",
       "</table>\n",
       "</div>"
      ],
      "text/plain": [
       "   rank                                               name  year  rating  \\\n",
       "0     1                           The Shawshank Redemption  1994     9.3   \n",
       "1     2                                      The Godfather  1972     9.2   \n",
       "2     3                                    The Dark Knight  2008     9.0   \n",
       "3     4                              The Godfather Part II  1974     9.0   \n",
       "4     5                                       12 Angry Men  1957     9.0   \n",
       "5     6                                   Schindler's List  1993     9.0   \n",
       "6     7      The Lord of the Rings: The Return of the King  2003     9.0   \n",
       "7     8                                       Pulp Fiction  1994     8.9   \n",
       "8     9  The Lord of the Rings: The Fellowship of the Ring  2001     8.8   \n",
       "9    10                     The Good, the Bad and the Ugly  1966     8.8   \n",
       "\n",
       "                     genre certificate run_time  \\\n",
       "0                    Drama           R   2h 22m   \n",
       "1              Crime,Drama           R   2h 55m   \n",
       "2       Action,Crime,Drama       PG-13   2h 32m   \n",
       "3              Crime,Drama           R   3h 22m   \n",
       "4              Crime,Drama    Approved   1h 36m   \n",
       "5  Biography,Drama,History           R   3h 15m   \n",
       "6   Action,Adventure,Drama       PG-13   3h 21m   \n",
       "7              Crime,Drama           R   2h 34m   \n",
       "8   Action,Adventure,Drama       PG-13   2h 58m   \n",
       "9        Adventure,Western    Approved   2h 58m   \n",
       "\n",
       "                                             tagline     budget  box_office  \\\n",
       "0  Fear can hold you prisoner. Hope can set you f...   25000000    28884504   \n",
       "1                         An offer you can't refuse.    6000000   250341816   \n",
       "2                                    Why So Serious?  185000000  1006234167   \n",
       "3       All the power on earth can't change destiny.   13000000    47961919   \n",
       "4  Life Is In Their Hands -- Death Is On Their Mi...     350000         955   \n",
       "5    Whoever saves one life, saves the world entire.   22000000   322161245   \n",
       "6                    The eye of the enemy is moving.   94000000  1146457748   \n",
       "7  Girls like me don't make invitations like this...    8000000   213928762   \n",
       "8                           The Legend Comes to Life   93000000   898204420   \n",
       "9  They formed an alliance of hate to steal a for...    1200000    25253887   \n",
       "\n",
       "                                               casts             directors  \\\n",
       "0  Tim Robbins,Morgan Freeman,Bob Gunton,William ...        Frank Darabont   \n",
       "1  Marlon Brando,Al Pacino,James Caan,Diane Keato...  Francis Ford Coppola   \n",
       "2  Christian Bale,Heath Ledger,Aaron Eckhart,Mich...     Christopher Nolan   \n",
       "3  Al Pacino,Robert De Niro,Robert Duvall,Diane K...  Francis Ford Coppola   \n",
       "4  Henry Fonda,Lee J. Cobb,Martin Balsam,John Fie...          Sidney Lumet   \n",
       "5  Liam Neeson,Ralph Fiennes,Ben Kingsley,Carolin...      Steven Spielberg   \n",
       "6  Elijah Wood,Viggo Mortensen,Ian McKellen,Orlan...         Peter Jackson   \n",
       "7  John Travolta,Uma Thurman,Samuel L. Jackson,Br...     Quentin Tarantino   \n",
       "8  Elijah Wood,Ian McKellen,Orlando Bloom,Sean Be...         Peter Jackson   \n",
       "9  Clint Eastwood,Eli Wallach,Lee Van Cleef,Aldo ...          Sergio Leone   \n",
       "\n",
       "                                            writers  \n",
       "0                       Stephen King,Frank Darabont  \n",
       "1                   Mario Puzo,Francis Ford Coppola  \n",
       "2   Jonathan Nolan,Christopher Nolan,David S. Goyer  \n",
       "3                   Francis Ford Coppola,Mario Puzo  \n",
       "4                                     Reginald Rose  \n",
       "5                   Thomas Keneally,Steven Zaillian  \n",
       "6         J.R.R. Tolkien,Fran Walsh,Philippa Boyens  \n",
       "7                     Quentin Tarantino,Roger Avary  \n",
       "8         J.R.R. Tolkien,Fran Walsh,Philippa Boyens  \n",
       "9  Luciano Vincenzoni,Sergio Leone,Agenore Incrocci  "
      ]
     },
     "execution_count": 4,
     "metadata": {},
     "output_type": "execute_result"
    }
   ],
   "source": [
    "film.head(10) #Top 10 film"
   ]
  },
  {
   "cell_type": "code",
   "execution_count": 5,
   "id": "36aa99e1",
   "metadata": {},
   "outputs": [
    {
     "data": {
      "text/html": [
       "<div>\n",
       "<style scoped>\n",
       "    .dataframe tbody tr th:only-of-type {\n",
       "        vertical-align: middle;\n",
       "    }\n",
       "\n",
       "    .dataframe tbody tr th {\n",
       "        vertical-align: top;\n",
       "    }\n",
       "\n",
       "    .dataframe thead th {\n",
       "        text-align: right;\n",
       "    }\n",
       "</style>\n",
       "<table border=\"1\" class=\"dataframe\">\n",
       "  <thead>\n",
       "    <tr style=\"text-align: right;\">\n",
       "      <th></th>\n",
       "      <th>rank</th>\n",
       "      <th>name</th>\n",
       "      <th>year</th>\n",
       "      <th>rating</th>\n",
       "      <th>genre</th>\n",
       "      <th>certificate</th>\n",
       "      <th>run_time</th>\n",
       "      <th>tagline</th>\n",
       "      <th>budget</th>\n",
       "      <th>box_office</th>\n",
       "      <th>casts</th>\n",
       "      <th>directors</th>\n",
       "      <th>writers</th>\n",
       "    </tr>\n",
       "  </thead>\n",
       "  <tbody>\n",
       "    <tr>\n",
       "      <th>245</th>\n",
       "      <td>246</td>\n",
       "      <td>The Help</td>\n",
       "      <td>2011</td>\n",
       "      <td>8.1</td>\n",
       "      <td>Drama</td>\n",
       "      <td>PG-13</td>\n",
       "      <td>2h 26m</td>\n",
       "      <td>Change begins with a whisper.</td>\n",
       "      <td>25000000</td>\n",
       "      <td>216639112</td>\n",
       "      <td>Viola Davis,Emma Stone,Octavia Spencer,Bryce D...</td>\n",
       "      <td>Tate Taylor</td>\n",
       "      <td>Tate Taylor,Kathryn Stockett</td>\n",
       "    </tr>\n",
       "    <tr>\n",
       "      <th>246</th>\n",
       "      <td>247</td>\n",
       "      <td>Dersu Uzala</td>\n",
       "      <td>1975</td>\n",
       "      <td>8.2</td>\n",
       "      <td>Adventure,Biography,Drama</td>\n",
       "      <td>G</td>\n",
       "      <td>2h 22m</td>\n",
       "      <td>There is man and beast at nature's mercy. Ther...</td>\n",
       "      <td>4000000</td>\n",
       "      <td>14480</td>\n",
       "      <td>Maksim Munzuk,Yuriy Solomin,Mikhail Bychkov,Vl...</td>\n",
       "      <td>Akira Kurosawa</td>\n",
       "      <td>Akira Kurosawa,Yuriy Nagibin,Vladimir Arsenev</td>\n",
       "    </tr>\n",
       "    <tr>\n",
       "      <th>247</th>\n",
       "      <td>248</td>\n",
       "      <td>Aladdin</td>\n",
       "      <td>1992</td>\n",
       "      <td>8.0</td>\n",
       "      <td>Animation,Adventure,Comedy</td>\n",
       "      <td>G</td>\n",
       "      <td>1h 30m</td>\n",
       "      <td>Wish granted! (DVD re-release)</td>\n",
       "      <td>Not Available</td>\n",
       "      <td>Not Available</td>\n",
       "      <td>Scott Weinger,Robin Williams,Linda Larkin,Jona...</td>\n",
       "      <td>Ron Clements,John Musker</td>\n",
       "      <td>Ron Clements,John Musker,Ted Elliott</td>\n",
       "    </tr>\n",
       "    <tr>\n",
       "      <th>248</th>\n",
       "      <td>249</td>\n",
       "      <td>Gandhi</td>\n",
       "      <td>1982</td>\n",
       "      <td>8.0</td>\n",
       "      <td>Biography,Drama,History</td>\n",
       "      <td>PG</td>\n",
       "      <td>3h 11m</td>\n",
       "      <td>His Triumph Changed The World Forever.</td>\n",
       "      <td>22000000</td>\n",
       "      <td>52767889</td>\n",
       "      <td>Ben Kingsley,John Gielgud,Rohini Hattangadi,Ro...</td>\n",
       "      <td>Richard Attenborough</td>\n",
       "      <td>John Briley</td>\n",
       "    </tr>\n",
       "    <tr>\n",
       "      <th>249</th>\n",
       "      <td>250</td>\n",
       "      <td>Dances with Wolves</td>\n",
       "      <td>1990</td>\n",
       "      <td>8.0</td>\n",
       "      <td>Adventure,Drama,Western</td>\n",
       "      <td>PG-13</td>\n",
       "      <td>3h 1m</td>\n",
       "      <td>Inside everyone is a frontier waiting to be di...</td>\n",
       "      <td>22000000</td>\n",
       "      <td>424208848</td>\n",
       "      <td>Kevin Costner,Mary McDonnell,Graham Greene,Rod...</td>\n",
       "      <td>Kevin Costner</td>\n",
       "      <td>Michael Blake</td>\n",
       "    </tr>\n",
       "  </tbody>\n",
       "</table>\n",
       "</div>"
      ],
      "text/plain": [
       "     rank                name  year  rating                       genre  \\\n",
       "245   246            The Help  2011     8.1                       Drama   \n",
       "246   247         Dersu Uzala  1975     8.2   Adventure,Biography,Drama   \n",
       "247   248             Aladdin  1992     8.0  Animation,Adventure,Comedy   \n",
       "248   249              Gandhi  1982     8.0     Biography,Drama,History   \n",
       "249   250  Dances with Wolves  1990     8.0     Adventure,Drama,Western   \n",
       "\n",
       "    certificate run_time                                            tagline  \\\n",
       "245       PG-13   2h 26m                      Change begins with a whisper.   \n",
       "246           G   2h 22m  There is man and beast at nature's mercy. Ther...   \n",
       "247           G   1h 30m                     Wish granted! (DVD re-release)   \n",
       "248          PG   3h 11m             His Triumph Changed The World Forever.   \n",
       "249       PG-13    3h 1m  Inside everyone is a frontier waiting to be di...   \n",
       "\n",
       "            budget     box_office  \\\n",
       "245       25000000      216639112   \n",
       "246        4000000          14480   \n",
       "247  Not Available  Not Available   \n",
       "248       22000000       52767889   \n",
       "249       22000000      424208848   \n",
       "\n",
       "                                                 casts  \\\n",
       "245  Viola Davis,Emma Stone,Octavia Spencer,Bryce D...   \n",
       "246  Maksim Munzuk,Yuriy Solomin,Mikhail Bychkov,Vl...   \n",
       "247  Scott Weinger,Robin Williams,Linda Larkin,Jona...   \n",
       "248  Ben Kingsley,John Gielgud,Rohini Hattangadi,Ro...   \n",
       "249  Kevin Costner,Mary McDonnell,Graham Greene,Rod...   \n",
       "\n",
       "                    directors                                        writers  \n",
       "245               Tate Taylor                   Tate Taylor,Kathryn Stockett  \n",
       "246            Akira Kurosawa  Akira Kurosawa,Yuriy Nagibin,Vladimir Arsenev  \n",
       "247  Ron Clements,John Musker           Ron Clements,John Musker,Ted Elliott  \n",
       "248      Richard Attenborough                                    John Briley  \n",
       "249             Kevin Costner                                  Michael Blake  "
      ]
     },
     "execution_count": 5,
     "metadata": {},
     "output_type": "execute_result"
    }
   ],
   "source": [
    "film.tail(5) "
   ]
  },
  {
   "cell_type": "code",
   "execution_count": 7,
   "id": "d7cab259",
   "metadata": {},
   "outputs": [
    {
     "data": {
      "text/plain": [
       "(250, 13)"
      ]
     },
     "execution_count": 7,
     "metadata": {},
     "output_type": "execute_result"
    }
   ],
   "source": [
    "film.shape"
   ]
  },
  {
   "cell_type": "code",
   "execution_count": 8,
   "id": "d5b7aa4b",
   "metadata": {},
   "outputs": [
    {
     "name": "stdout",
     "output_type": "stream",
     "text": [
      "<class 'pandas.core.frame.DataFrame'>\n",
      "RangeIndex: 250 entries, 0 to 249\n",
      "Data columns (total 13 columns):\n",
      " #   Column       Non-Null Count  Dtype  \n",
      "---  ------       --------------  -----  \n",
      " 0   rank         250 non-null    int64  \n",
      " 1   name         250 non-null    object \n",
      " 2   year         250 non-null    int64  \n",
      " 3   rating       250 non-null    float64\n",
      " 4   genre        250 non-null    object \n",
      " 5   certificate  250 non-null    object \n",
      " 6   run_time     250 non-null    object \n",
      " 7   tagline      250 non-null    object \n",
      " 8   budget       250 non-null    object \n",
      " 9   box_office   250 non-null    object \n",
      " 10  casts        250 non-null    object \n",
      " 11  directors    250 non-null    object \n",
      " 12  writers      250 non-null    object \n",
      "dtypes: float64(1), int64(2), object(10)\n",
      "memory usage: 25.5+ KB\n"
     ]
    }
   ],
   "source": [
    "film.info()"
   ]
  },
  {
   "cell_type": "code",
   "execution_count": 9,
   "id": "0e785b34",
   "metadata": {},
   "outputs": [
    {
     "data": {
      "text/html": [
       "<div>\n",
       "<style scoped>\n",
       "    .dataframe tbody tr th:only-of-type {\n",
       "        vertical-align: middle;\n",
       "    }\n",
       "\n",
       "    .dataframe tbody tr th {\n",
       "        vertical-align: top;\n",
       "    }\n",
       "\n",
       "    .dataframe thead th {\n",
       "        text-align: right;\n",
       "    }\n",
       "</style>\n",
       "<table border=\"1\" class=\"dataframe\">\n",
       "  <thead>\n",
       "    <tr style=\"text-align: right;\">\n",
       "      <th></th>\n",
       "      <th>rank</th>\n",
       "      <th>year</th>\n",
       "      <th>rating</th>\n",
       "    </tr>\n",
       "  </thead>\n",
       "  <tbody>\n",
       "    <tr>\n",
       "      <th>count</th>\n",
       "      <td>250.000000</td>\n",
       "      <td>250.000000</td>\n",
       "      <td>250.000000</td>\n",
       "    </tr>\n",
       "    <tr>\n",
       "      <th>mean</th>\n",
       "      <td>125.500000</td>\n",
       "      <td>1986.360000</td>\n",
       "      <td>8.307200</td>\n",
       "    </tr>\n",
       "    <tr>\n",
       "      <th>std</th>\n",
       "      <td>72.312977</td>\n",
       "      <td>25.125356</td>\n",
       "      <td>0.229081</td>\n",
       "    </tr>\n",
       "    <tr>\n",
       "      <th>min</th>\n",
       "      <td>1.000000</td>\n",
       "      <td>1921.000000</td>\n",
       "      <td>8.000000</td>\n",
       "    </tr>\n",
       "    <tr>\n",
       "      <th>25%</th>\n",
       "      <td>63.250000</td>\n",
       "      <td>1966.250000</td>\n",
       "      <td>8.100000</td>\n",
       "    </tr>\n",
       "    <tr>\n",
       "      <th>50%</th>\n",
       "      <td>125.500000</td>\n",
       "      <td>1994.000000</td>\n",
       "      <td>8.200000</td>\n",
       "    </tr>\n",
       "    <tr>\n",
       "      <th>75%</th>\n",
       "      <td>187.750000</td>\n",
       "      <td>2006.000000</td>\n",
       "      <td>8.400000</td>\n",
       "    </tr>\n",
       "    <tr>\n",
       "      <th>max</th>\n",
       "      <td>250.000000</td>\n",
       "      <td>2022.000000</td>\n",
       "      <td>9.300000</td>\n",
       "    </tr>\n",
       "  </tbody>\n",
       "</table>\n",
       "</div>"
      ],
      "text/plain": [
       "             rank         year      rating\n",
       "count  250.000000   250.000000  250.000000\n",
       "mean   125.500000  1986.360000    8.307200\n",
       "std     72.312977    25.125356    0.229081\n",
       "min      1.000000  1921.000000    8.000000\n",
       "25%     63.250000  1966.250000    8.100000\n",
       "50%    125.500000  1994.000000    8.200000\n",
       "75%    187.750000  2006.000000    8.400000\n",
       "max    250.000000  2022.000000    9.300000"
      ]
     },
     "execution_count": 9,
     "metadata": {},
     "output_type": "execute_result"
    }
   ],
   "source": [
    "film.describe()"
   ]
  },
  {
   "cell_type": "code",
   "execution_count": 16,
   "id": "8b40b214",
   "metadata": {
    "scrolled": true
   },
   "outputs": [
    {
     "data": {
      "text/plain": [
       "Text(0, 0.5, 'Frequency')"
      ]
     },
     "execution_count": 16,
     "metadata": {},
     "output_type": "execute_result"
    },
    {
     "data": {
      "image/png": "[encoded data removed]",
      "text/plain": [
       "<Figure size 640x480 with 1 Axes>"
      ]
     },
     "metadata": {},
     "output_type": "display_data"
    }
   ],
   "source": [
    "selected_rows = film[(film['rating']>8.0) & (film['year']>2000)  ]\n",
    "\n",
    "# Histogram grafiği oluşturma\n",
    "plt.hist(selected_rows['rating'], bins=10, color='skyblue', edgecolor='black')\n",
    "\n",
    "# Grafiğin başlık ve eksen etiketlerini ayarlama\n",
    "plt.title('Film Rating Distribution (Rating > 8.0 & Year > 2000)')\n",
    "plt.xlabel('Rating')\n",
    "plt.ylabel('Frequency')\n",
    "\n",
    "\n",
    "#Bu kod dizini, belirli koşullara uyan filmlerin değerlendirme puanlarının bir histogramını oluşturacaktır. Histogramın x-ekseni değerlendirme puanlarını gösterirken, y-ekseni bu puanlara sahip filmlerin sayısını temsil eder."
   ]
  },
  {
   "cell_type": "code",
   "execution_count": 19,
   "id": "33840eec",
   "metadata": {},
   "outputs": [
    {
     "data": {
      "text/plain": [
       "False"
      ]
     },
     "execution_count": 19,
     "metadata": {},
     "output_type": "execute_result"
    }
   ],
   "source": [
    "film.isnull().values.any()"
   ]
  },
  {
   "cell_type": "code",
   "execution_count": 20,
   "id": "4e234e3e",
   "metadata": {},
   "outputs": [
    {
     "data": {
      "text/plain": [
       "rank           0\n",
       "name           0\n",
       "year           0\n",
       "rating         0\n",
       "genre          0\n",
       "certificate    0\n",
       "run_time       0\n",
       "tagline        0\n",
       "budget         0\n",
       "box_office     0\n",
       "casts          0\n",
       "directors      0\n",
       "writers        0\n",
       "dtype: int64"
      ]
     },
     "execution_count": 20,
     "metadata": {},
     "output_type": "execute_result"
    }
   ],
   "source": [
    "film.isnull().sum()"
   ]
  },
  {
   "cell_type": "code",
   "execution_count": 22,
   "id": "791d63e5",
   "metadata": {},
   "outputs": [
    {
     "data": {
      "text/plain": [
       "Index(['rank', 'name', 'year', 'rating', 'genre', 'certificate', 'run_time',\n",
       "       'tagline', 'budget', 'box_office', 'casts', 'directors', 'writers'],\n",
       "      dtype='object')"
      ]
     },
     "execution_count": 22,
     "metadata": {},
     "output_type": "execute_result"
    }
   ],
   "source": [
    "film.columns"
   ]
  },
  {
   "cell_type": "code",
   "execution_count": 37,
   "id": "a3c9d639",
   "metadata": {},
   "outputs": [
    {
     "data": {
      "text/plain": [
       "year\n",
       "1972    9.2\n",
       "1994    8.8\n",
       "1974    8.6\n",
       "1977    8.6\n",
       "1991    8.6\n",
       "       ... \n",
       "1934    8.1\n",
       "1996    8.1\n",
       "1967    8.1\n",
       "1982    8.1\n",
       "1949    8.1\n",
       "Name: rating, Length: 86, dtype: float64"
      ]
     },
     "execution_count": 37,
     "metadata": {},
     "output_type": "execute_result"
    }
   ],
   "source": [
    "film.groupby('year')['rating'].mean().sort_values(ascending=False)"
   ]
  },
  {
   "cell_type": "code",
   "execution_count": 39,
   "id": "42c8f2a9",
   "metadata": {},
   "outputs": [],
   "source": [
    "import seaborn as sns\n"
   ]
  },
  {
   "cell_type": "code",
   "execution_count": 42,
   "id": "8a0a94e5",
   "metadata": {},
   "outputs": [
    {
     "data": {
      "image/png": "[encoded data removed]",
      "text/plain": [
       "<Figure size 640x480 with 1 Axes>"
      ]
     },
     "metadata": {},
     "output_type": "display_data"
    }
   ],
   "source": [
    "sns.histplot(x='year',y='rating',data=film)\n",
    "plt.title(\"Budget&Rating\")\n",
    "plt.show()"
   ]
  },
  {
   "cell_type": "code",
   "execution_count": 43,
   "id": "c38de7c8",
   "metadata": {},
   "outputs": [
    {
     "data": {
      "text/plain": [
       "directors\n",
       "Aamir Khan,Amole Gupte(uncredited)    8.300000\n",
       "Adam Elliot                           8.100000\n",
       "Akira Kurosawa                        8.300000\n",
       "Alejandro G. Iñárritu                 8.100000\n",
       "Alfred Hitchcock                      8.316667\n",
       "                                        ...   \n",
       "William Friedkin                      8.100000\n",
       "William Wyler                         8.100000\n",
       "Wolfgang Petersen                     8.400000\n",
       "Yasujirô Ozu                          8.200000\n",
       "Çagan Irmak                           8.200000\n",
       "Name: rating, Length: 160, dtype: float64"
      ]
     },
     "execution_count": 43,
     "metadata": {},
     "output_type": "execute_result"
    }
   ],
   "source": [
    "film.groupby('directors')['rating'].mean()"
   ]
  },
  {
   "cell_type": "code",
   "execution_count": 44,
   "id": "3832eea8",
   "metadata": {},
   "outputs": [
    {
     "data": {
      "text/plain": [
       "directors\n",
       "Frank Darabont              8.950000\n",
       "Francis Ford Coppola        8.900000\n",
       "Peter Jackson               8.866667\n",
       "T.J. Gnanavel               8.800000\n",
       "Irvin Kershner              8.700000\n",
       "                              ...   \n",
       "Brad Bird                   8.050000\n",
       "Terry Jones                 8.000000\n",
       "Richard Attenborough        8.000000\n",
       "Ron Clements,John Musker    8.000000\n",
       "Kevin Costner               8.000000\n",
       "Name: rating, Length: 160, dtype: float64"
      ]
     },
     "execution_count": 44,
     "metadata": {},
     "output_type": "execute_result"
    }
   ],
   "source": [
    "film.groupby('directors')['rating'].mean().sort_values(ascending=False)"
   ]
  },
  {
   "cell_type": "code",
   "execution_count": 45,
   "id": "38ed81ec",
   "metadata": {},
   "outputs": [
    {
     "data": {
      "text/plain": [
       "1995    8\n",
       "2004    7\n",
       "2009    6\n",
       "1957    6\n",
       "2003    6\n",
       "       ..\n",
       "1941    1\n",
       "1958    1\n",
       "2022    1\n",
       "1987    1\n",
       "1934    1\n",
       "Name: year, Length: 86, dtype: int64"
      ]
     },
     "execution_count": 45,
     "metadata": {},
     "output_type": "execute_result"
    }
   ],
   "source": [
    "film['year'].value_counts()"
   ]
  },
  {
   "cell_type": "code",
   "execution_count": 51,
   "id": "a4a4e01f",
   "metadata": {},
   "outputs": [
    {
     "data": {
      "text/plain": [
       "<Axes: xlabel='year', ylabel='rating'>"
      ]
     },
     "execution_count": 51,
     "metadata": {},
     "output_type": "execute_result"
    },
    {
     "data": {
      "image/png": "[encoded data removed]",
      "text/plain": [
       "<Figure size 640x480 with 1 Axes>"
      ]
     },
     "metadata": {},
     "output_type": "display_data"
    }
   ],
   "source": [
    "sns.scatterplot(x='year',y='rating',data=film)"
   ]
  },
  {
   "cell_type": "code",
   "execution_count": null,
   "id": "4d4c55e4",
   "metadata": {},
   "outputs": [],
   "source": []
  },
  {
   "cell_type": "code",
   "execution_count": null,
   "id": "1154f15f",
   "metadata": {},
   "outputs": [],
   "source": []
  }
 ],
 "metadata": {
  "kernelspec": {
   "display_name": "Python 3 (ipykernel)",
   "language": "python",
   "name": "python3"
  },
  "language_info": {
   "codemirror_mode": {
    "name": "ipython",
    "version": 3
   },
   "file_extension": ".py",
   "mimetype": "text/x-python",
   "name": "python",
   "nbconvert_exporter": "python",
   "pygments_lexer": "ipython3",
   "version": "3.11.3"
  }
 },
 "nbformat": 4,
 "nbformat_minor": 5
}
